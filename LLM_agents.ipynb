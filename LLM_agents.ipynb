{
  "nbformat": 4,
  "nbformat_minor": 0,
  "metadata": {
    "colab": {
      "provenance": [],
      "include_colab_link": true
    },
    "kernelspec": {
      "name": "python3",
      "display_name": "Python 3"
    },
    "language_info": {
      "name": "python"
    }
  },
  "cells": [
    {
      "cell_type": "markdown",
      "metadata": {
        "id": "view-in-github",
        "colab_type": "text"
      },
      "source": [
        "<a href=\"https://colab.research.google.com/github/AbrahamKong/CMPE297-LLM_Finetuning_Assignment/blob/main/LLM_agents.ipynb\" target=\"_parent\"><img src=\"https://colab.research.google.com/assets/colab-badge.svg\" alt=\"Open In Colab\"/></a>"
      ]
    },
    {
      "cell_type": "code",
      "execution_count": null,
      "metadata": {
        "id": "AhvVlc2ZWv4u"
      },
      "outputs": [],
      "source": [
        "!pip install openai"
      ]
    },
    {
      "cell_type": "code",
      "source": [
        "import openai\n",
        "\n",
        "openai.api_key = ''"
      ],
      "metadata": {
        "id": "nlY0U5TDah1b"
      },
      "execution_count": null,
      "outputs": []
    },
    {
      "cell_type": "code",
      "source": [
        "def gpt4(instruction,question):\n",
        "    completion = openai.ChatCompletion.create(\n",
        "      model=\"gpt-4\",\n",
        "      messages=[\n",
        "        {\"role\": \"system\", \"content\": f'{instruction}'},\n",
        "        {\"role\": \"user\", \"content\": f\"{question}\"},\n",
        "      ],temperature = 0,\n",
        "    )\n",
        "\n",
        "    return completion.choices[0].message.content"
      ],
      "metadata": {
        "id": "soOWAQkCYOl7"
      },
      "execution_count": null,
      "outputs": []
    },
    {
      "cell_type": "code",
      "source": [
        "gpt4(\"DO\",\"it\")"
      ],
      "metadata": {
        "id": "G-MgJay0afA_"
      },
      "execution_count": null,
      "outputs": []
    },
    {
      "cell_type": "code",
      "source": [
        "instruction = \"You're a helpful assitant\"\n",
        "question = \"Please give me 3 random names for a puppy\""
      ],
      "metadata": {
        "id": "X3-859Edam_y"
      },
      "execution_count": null,
      "outputs": []
    },
    {
      "cell_type": "code",
      "source": [
        "gpt4(instruction,question)"
      ],
      "metadata": {
        "id": "MDzNQZEqbtj-"
      },
      "execution_count": null,
      "outputs": []
    },
    {
      "cell_type": "markdown",
      "source": [
        "# Lets make it think!"
      ],
      "metadata": {
        "id": "O2pZznxrcr2B"
      }
    },
    {
      "cell_type": "code",
      "source": [
        "### ADD, Subtract or Multiply?\n",
        "### HERE ARE YOUR TOOLS\n",
        "\n",
        "def add(a, b):\n",
        "     return a + b\n",
        "\n",
        "def subtract(a, b):\n",
        "    return a - b\n",
        "\n",
        "def multiply(a, b):\n",
        "    return a * b"
      ],
      "metadata": {
        "id": "7lyumMqPcwoI"
      },
      "execution_count": null,
      "outputs": []
    },
    {
      "cell_type": "code",
      "source": [
        "## HERE'S how you know how to use those tools\n",
        "instruction = 'Determine the appropriate category (\"add\", \"subtract\", \"multiply\") based on user input. Extract two numbers. Format the answer as: {\"category\":\"add\",\"inputs\":\"2,2\"}. Provide JSON only.'"
      ],
      "metadata": {
        "id": "uimRw8PPdpUH"
      },
      "execution_count": null,
      "outputs": []
    },
    {
      "cell_type": "code",
      "source": [
        "question = \"they took 5 apples from me. I had 10. How many do I have? Who lives on saturn?\""
      ],
      "metadata": {
        "id": "Bafj5oYSeOjs"
      },
      "execution_count": null,
      "outputs": []
    },
    {
      "cell_type": "code",
      "source": [
        "##Thinking...\n",
        "\n",
        "print('Thinking...')\n",
        "\n",
        "observation = gpt4(instruction,question)\n",
        "\n",
        "print(observation)\n"
      ],
      "metadata": {
        "id": "Xi9Ckq5-eV-r",
        "colab": {
          "base_uri": "https://localhost:8080/"
        },
        "outputId": "068971fe-cb97-40cb-bd47-fac668b332ad"
      },
      "execution_count": null,
      "outputs": [
        {
          "output_type": "stream",
          "name": "stdout",
          "text": [
            "Thinking...\n",
            "{\"category\":\"subtract\",\"inputs\":\"10,5\"}\n"
          ]
        }
      ]
    },
    {
      "cell_type": "code",
      "source": [
        "observation_lang = gpt4(\"summarise the following json in human words. It is your observation of a task that you will need to complete.\",observation)\n",
        "print(\"Observation:\",observation_lang)"
      ],
      "metadata": {
        "id": "ZtMRUH4QgDKO",
        "colab": {
          "base_uri": "https://localhost:8080/"
        },
        "outputId": "aedba11a-04dd-4517-c0f3-04d2c514c07f"
      },
      "execution_count": null,
      "outputs": [
        {
          "output_type": "stream",
          "name": "stdout",
          "text": [
            "Observation: The task is to perform a subtraction operation with the given inputs, which are 10 and 5.\n"
          ]
        }
      ]
    },
    {
      "cell_type": "code",
      "source": [
        "import json\n",
        "def run_operation(operation):\n",
        "    operation = json.loads(operation)\n",
        "    category = operation['category']\n",
        "    inputs = operation['inputs'].split(',')\n",
        "    a = int(inputs[0])\n",
        "    b = int(inputs[1])\n",
        "    print('trying to find a matching operation')\n",
        "    if category == 'add':\n",
        "        result = add(a, b)\n",
        "        print('found a matching operation: add')\n",
        "    elif category == 'subtract':\n",
        "        result = subtract(a, b)\n",
        "        print('found a matching operation: subtract')\n",
        "    elif category == 'multiply':\n",
        "        result = multiply(a, b)\n",
        "        print('found a matching operation: multiply')\n",
        "    else:\n",
        "        result = \"Invalid operation\"\n",
        "    return result"
      ],
      "metadata": {
        "id": "7hwEbITEeY7L"
      },
      "execution_count": null,
      "outputs": []
    },
    {
      "cell_type": "code",
      "source": [
        "answer = run_operation(observation)\n",
        "print(\"Answer:\", answer)"
      ],
      "metadata": {
        "id": "rSj54BcNghT2",
        "colab": {
          "base_uri": "https://localhost:8080/"
        },
        "outputId": "4a59e6e5-f51a-4756-f518-2d1fb36dddbb"
      },
      "execution_count": null,
      "outputs": [
        {
          "output_type": "stream",
          "name": "stdout",
          "text": [
            "trying to find a matching operation\n",
            "found a matching operation: subtract\n",
            "Answer: 5\n"
          ]
        }
      ]
    },
    {
      "cell_type": "code",
      "source": [
        "gpt4(f\"You have found the answer to a customers question. Phrase it in a nice sentance.Question {question} Answer:{answer}\",'Whats the answer?')"
      ],
      "metadata": {
        "id": "gp_mhDO8g4dQ",
        "colab": {
          "base_uri": "https://localhost:8080/",
          "height": 35
        },
        "outputId": "6edfa167-2f2a-4024-d855-3feaabfea154"
      },
      "execution_count": null,
      "outputs": [
        {
          "output_type": "execute_result",
          "data": {
            "text/plain": [
              "'You now have 5 apples remaining after the customer took 5 from your initial count of 10.'"
            ],
            "application/vnd.google.colaboratory.intrinsic+json": {
              "type": "string"
            }
          },
          "metadata": {},
          "execution_count": 31
        }
      ]
    },
    {
      "cell_type": "code",
      "source": [
        "gpt4(f\"You have to make sure all the customer questions are answer. A customer asked the following questions: {question} Here's the answer given:{answer}.\",'Are all questions answered? ')"
      ],
      "metadata": {
        "id": "A-9ZD-1-h9gd",
        "colab": {
          "base_uri": "https://localhost:8080/",
          "height": 53
        },
        "outputId": "a6a9aab0-bc87-49fd-f68f-e1b9bb7993a3"
      },
      "execution_count": null,
      "outputs": [
        {
          "output_type": "execute_result",
          "data": {
            "text/plain": [
              "\"No, all questions are not answered. I apologize for that. Here's the complete answer:\\n\\n1. If you had 10 apples and someone took 5 apples from you, you now have 5 apples left.\\n2. As far as we know, there are no living beings on Saturn. It is a gas giant planet with extreme conditions that are not suitable for life as we know it.\""
            ],
            "application/vnd.google.colaboratory.intrinsic+json": {
              "type": "string"
            }
          },
          "metadata": {},
          "execution_count": 38
        }
      ]
    },
    {
      "cell_type": "markdown",
      "source": [
        "# Reference\n",
        "\n",
        "[Learning LLM Agents. How does it actually work? LangChain, AutoGPT & OpenAI](https://youtu.be/mb_YAABSplk)"
      ],
      "metadata": {
        "id": "VDz6tIwAXH0m"
      }
    }
  ]
}